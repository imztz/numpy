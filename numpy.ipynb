{
 "cells": [
  {
   "cell_type": "markdown",
   "metadata": {},
   "source": [
    "## Numpy"
   ]
  },
  {
   "cell_type": "markdown",
   "metadata": {},
   "source": [
    "### 1.创建数组"
   ]
  },
  {
   "cell_type": "code",
   "execution_count": 40,
   "metadata": {},
   "outputs": [
    {
     "name": "stdout",
     "output_type": "stream",
     "text": [
      "[1 2 3]\n",
      "<class 'numpy.ndarray'>\n"
     ]
    }
   ],
   "source": [
    "import numpy as np\n",
    "import random\n",
    "\n",
    "t1 = np.array([1,2,3])\n",
    "print(t1)\n",
    "print(type(t1))"
   ]
  },
  {
   "cell_type": "code",
   "execution_count": 90,
   "metadata": {},
   "outputs": [
    {
     "name": "stdout",
     "output_type": "stream",
     "text": [
      "[[0. 0. 0. 0.]\n",
      " [0. 0. 0. 0.]\n",
      " [0. 0. 0. 0.]]\n",
      "float64\n",
      "[[[1 1 1 1]\n",
      "  [1 1 1 1]\n",
      "  [1 1 1 1]]\n",
      "\n",
      " [[1 1 1 1]\n",
      "  [1 1 1 1]\n",
      "  [1 1 1 1]]]\n"
     ]
    }
   ],
   "source": [
    "t = np.zeros((3,4))\n",
    "print(t)\n",
    "print(t.dtype)"
   ]
  },
  {
   "cell_type": "code",
   "execution_count": 92,
   "metadata": {},
   "outputs": [
    {
     "name": "stdout",
     "output_type": "stream",
     "text": [
      "[[[1 1 1 1]\n",
      "  [1 1 1 1]\n",
      "  [1 1 1 1]]\n",
      "\n",
      " [[1 1 1 1]\n",
      "  [1 1 1 1]\n",
      "  [1 1 1 1]]]\n",
      "int32\n"
     ]
    }
   ],
   "source": [
    "a = np.ones((2,3,4),dtype=int)\n",
    "print(a)\n",
    "print(a.dtype)"
   ]
  },
  {
   "cell_type": "code",
   "execution_count": 93,
   "metadata": {},
   "outputs": [
    {
     "name": "stdout",
     "output_type": "stream",
     "text": [
      "[[2.12199579e-314 6.36598737e-314 1.06099790e-313]\n",
      " [1.27319747e-313 1.69759663e-313 2.12199579e-313]]\n",
      "float64\n"
     ]
    }
   ],
   "source": [
    "a = np.empty((2,3))  #随机生成的数组\n",
    "print(a)\n",
    "print(a.dtype)"
   ]
  },
  {
   "cell_type": "code",
   "execution_count": 41,
   "metadata": {},
   "outputs": [
    {
     "name": "stdout",
     "output_type": "stream",
     "text": [
      "[3 4 5 6 7 8 9]\n"
     ]
    }
   ],
   "source": [
    "#左闭右开\n",
    "t2 = np.array(range(3, 10))\n",
    "print(t2)"
   ]
  },
  {
   "cell_type": "code",
   "execution_count": 42,
   "metadata": {},
   "outputs": [
    {
     "name": "stdout",
     "output_type": "stream",
     "text": [
      "[4 6 8]\n",
      "int32\n"
     ]
    }
   ],
   "source": [
    "t3 = np.arange(4, 10, 2)\n",
    "print(t3)\n",
    "print(t3.dtype)"
   ]
  },
  {
   "cell_type": "code",
   "execution_count": 43,
   "metadata": {},
   "outputs": [
    {
     "name": "stdout",
     "output_type": "stream",
     "text": [
      "[1. 2. 3.]\n",
      "float32\n"
     ]
    }
   ],
   "source": [
    "#指定数组中的数据类型\n",
    "t4 = np.array(range(1, 4), dtype=\"float32\")\n",
    "print(t4)\n",
    "print(t4.dtype)"
   ]
  },
  {
   "cell_type": "code",
   "execution_count": 44,
   "metadata": {},
   "outputs": [
    {
     "name": "stdout",
     "output_type": "stream",
     "text": [
      "[ True  True False  True False]\n",
      "bool\n"
     ]
    }
   ],
   "source": [
    "#bool\n",
    "t5 = np.array([1,1,0,1,0], dtype=bool)\n",
    "print(t5)\n",
    "print(t5.dtype)"
   ]
  },
  {
   "cell_type": "code",
   "execution_count": 46,
   "metadata": {},
   "outputs": [
    {
     "name": "stdout",
     "output_type": "stream",
     "text": [
      "[1 1 0 1 0]\n",
      "int32\n",
      "bool\n"
     ]
    }
   ],
   "source": [
    "#更改数据类型\n",
    "t6 = t5.astype(int) #这个操作不会更改原t5数组的数据类型\n",
    "print(t6)\n",
    "print(t6.dtype)\n",
    "print(t5.dtype)"
   ]
  },
  {
   "cell_type": "code",
   "execution_count": 48,
   "metadata": {},
   "outputs": [
    {
     "name": "stdout",
     "output_type": "stream",
     "text": [
      "[0.95258931 0.35807129 0.43437058 0.66367935 0.45494154 0.12613436\n",
      " 0.28176286 0.16351992 0.47777654 0.35956001]\n",
      "float64\n",
      "[0.95 0.36 0.43 0.66 0.45 0.13 0.28 0.16 0.48 0.36]\n",
      "float64\n"
     ]
    }
   ],
   "source": [
    "#生成10个从0到1的小数\n",
    "t7 = np.array([random.random() for i in range(10)])\n",
    "print(t7)\n",
    "print(t7.dtype)\n",
    "\n",
    "#保留小数\n",
    "t8 = np.round(t7, 2)\n",
    "print(t8)\n",
    "print(t8.dtype)"
   ]
  },
  {
   "cell_type": "code",
   "execution_count": 99,
   "metadata": {},
   "outputs": [
    {
     "name": "stdout",
     "output_type": "stream",
     "text": [
      "[0.   0.25 0.5  0.75 1.   1.25 1.5  1.75 2.  ]\n"
     ]
    }
   ],
   "source": [
    "a = np.linspace(0,2,9)  #9个数，从0到2，均匀步长\n",
    "print(a)"
   ]
  },
  {
   "cell_type": "code",
   "execution_count": 105,
   "metadata": {},
   "outputs": [
    {
     "data": {
      "image/png": "[encoded data removed]",
      "text/plain": [
       "<Figure size 432x288 with 1 Axes>"
      ]
     },
     "metadata": {
      "needs_background": "light"
     },
     "output_type": "display_data"
    },
    {
     "name": "stdout",
     "output_type": "stream",
     "text": [
      "[ 0.  2.  4.  6.  8. 10.]\n"
     ]
    }
   ],
   "source": [
    "import matplotlib.pyplot as plt\n",
    "\n",
    "y = np.zeros(6)\n",
    "x = np.linspace(0,10,6)\n",
    "plt.plot(x, y, '*')\n",
    "plt.show()\n",
    "print(x)"
   ]
  },
  {
   "cell_type": "markdown",
   "metadata": {},
   "source": [
    "### 2.数组维数"
   ]
  },
  {
   "cell_type": "code",
   "execution_count": 49,
   "metadata": {},
   "outputs": [
    {
     "name": "stdout",
     "output_type": "stream",
     "text": [
      "[0 1 2 3 4 5 6 7 8 9]\n",
      "(10,)\n"
     ]
    }
   ],
   "source": [
    "import numpy as np\n",
    "\n",
    "t1 = np.arange(10)\n",
    "print(t1)\n",
    "print(t1.shape)\n"
   ]
  },
  {
   "cell_type": "code",
   "execution_count": 50,
   "metadata": {},
   "outputs": [
    {
     "name": "stdout",
     "output_type": "stream",
     "text": [
      "[[1 2 3]\n",
      " [4 5 6]]\n",
      "(2, 3)\n"
     ]
    }
   ],
   "source": [
    "t2 = np.array([[1,2,3],[4,5,6]])\n",
    "print(t2)\n",
    "print(t2.shape)"
   ]
  },
  {
   "cell_type": "code",
   "execution_count": 60,
   "metadata": {},
   "outputs": [
    {
     "name": "stdout",
     "output_type": "stream",
     "text": [
      "[[[ 1  2  3]\n",
      "  [ 4  5  6]]\n",
      "\n",
      " [[ 7  8  9]\n",
      "  [10 11 12]]]\n",
      "(2, 2, 3)\n",
      "2\n"
     ]
    }
   ],
   "source": [
    "t3 = np.array([[[1,2,3],[4,5,6]], [[7,8,9],[10,11,12]]])\n",
    "print(t3)\n",
    "print(t3.shape)\n",
    "print(t3.shape[0])"
   ]
  },
  {
   "cell_type": "code",
   "execution_count": 52,
   "metadata": {},
   "outputs": [
    {
     "name": "stdout",
     "output_type": "stream",
     "text": [
      "[[ 0  1  2  3]\n",
      " [ 4  5  6  7]\n",
      " [ 8  9 10 11]]\n",
      "[ 0  1  2  3  4  5  6  7  8  9 10 11]\n"
     ]
    }
   ],
   "source": [
    "#修改形状\n",
    "t4 = np.arange(12)\n",
    "t44 = t4.reshape((3,4))\n",
    "print(t44)\n",
    "print(t4)  #可见reshape不会改变原数组的形状"
   ]
  },
  {
   "cell_type": "code",
   "execution_count": 57,
   "metadata": {},
   "outputs": [
    {
     "name": "stdout",
     "output_type": "stream",
     "text": [
      "[[[ 0  1  2  3]\n",
      "  [ 4  5  6  7]\n",
      "  [ 8  9 10 11]]\n",
      "\n",
      " [[12 13 14 15]\n",
      "  [16 17 18 19]\n",
      "  [20 21 22 23]]]\n",
      "[ 0  1  2  3  4  5  6  7  8  9 10 11 12 13 14 15 16 17 18 19 20 21 22 23]\n"
     ]
    }
   ],
   "source": [
    "t5 = np.arange(24).reshape((2,3,4))\n",
    "print(t5)\n",
    "\n",
    "#一维数组只能这么写，假如写成[1,24]，返回一个1行24列的二维数组\n",
    "t6 = t5.reshape(24,)\n",
    "print(t6)"
   ]
  },
  {
   "cell_type": "code",
   "execution_count": 76,
   "metadata": {},
   "outputs": [
    {
     "name": "stdout",
     "output_type": "stream",
     "text": [
      "[[ 0  1  2  3  4  5]\n",
      " [ 6  7  8  9 10 11]]\n",
      "[ 0  1  2  3  4  5  6  7  8  9 10 11]\n",
      "[ 0  1  2  3  4  5  6  7  8  9 10 11]\n"
     ]
    }
   ],
   "source": [
    "#转换成一维数组的方法\n",
    "t7 = np.arange(12).reshape((2,6))\n",
    "print(t7)\n",
    "\n",
    "t8 = t7.reshape((t7.shape[0]*t7.shape[1],))\n",
    "print(t8)\n",
    "\n",
    "#直接展开\n",
    "t9 = t7.flatten()\n",
    "print(t9)"
   ]
  },
  {
   "cell_type": "code",
   "execution_count": 84,
   "metadata": {},
   "outputs": [
    {
     "name": "stdout",
     "output_type": "stream",
     "text": [
      "(3, 5)\n",
      "2\n",
      "15\n",
      "<class 'numpy.ndarray'>\n",
      "int32\n"
     ]
    }
   ],
   "source": [
    "import numpy as np\n",
    "a = np.arange(15).reshape(3, 5)\n",
    "print(a.shape)  #数组形状\n",
    "print(a.ndim) #维度的个数(2维)\n",
    "print(a.size) #元素个数\n",
    "print(type(a)) #数组类型\n",
    "print(a.dtype)  #数组元素类型"
   ]
  },
  {
   "cell_type": "markdown",
   "metadata": {},
   "source": [
    "### 3.数组的计算"
   ]
  },
  {
   "cell_type": "code",
   "execution_count": 77,
   "metadata": {},
   "outputs": [
    {
     "name": "stdout",
     "output_type": "stream",
     "text": [
      "[[ 0  1  2  3  4  5]\n",
      " [ 6  7  8  9 10 11]]\n",
      "[[ 2  3  4  5  6  7]\n",
      " [ 8  9 10 11 12 13]]\n",
      "[[ 0  2  4  6  8 10]\n",
      " [12 14 16 18 20 22]]\n"
     ]
    }
   ],
   "source": [
    "import numpy as np\n",
    "t1 = np.arange(12).reshape(2, 6)\n",
    "\n",
    "print(t1)\n",
    "print(t1 + 2)\n",
    "print(t1 * 2)\n"
   ]
  },
  {
   "cell_type": "code",
   "execution_count": 78,
   "metadata": {},
   "outputs": [
    {
     "name": "stdout",
     "output_type": "stream",
     "text": [
      "[[100 101 102 103 104 105]\n",
      " [106 107 108 109 110 111]]\n",
      "[[100 102 104 106 108 110]\n",
      " [112 114 116 118 120 122]]\n"
     ]
    }
   ],
   "source": [
    "t2 = np.arange(100, 112).reshape(2, 6)\n",
    "print(t2)\n",
    "print(t1+t2)"
   ]
  },
  {
   "cell_type": "code",
   "execution_count": 79,
   "metadata": {},
   "outputs": [
    {
     "name": "stdout",
     "output_type": "stream",
     "text": [
      "[[0 0 0 0 0 0]\n",
      " [6 6 6 6 6 6]]\n",
      "[[ 0  1  2  3  4  5]\n",
      " [ 5  6  7  8  9 10]]\n"
     ]
    }
   ],
   "source": [
    "t3 = np.arange(6)\n",
    "print(t1-t3)\n",
    "\n",
    "t4 = np.arange(2).reshape(2, 1)\n",
    "print(t1-t4)"
   ]
  },
  {
   "cell_type": "code",
   "execution_count": 108,
   "metadata": {},
   "outputs": [
    {
     "name": "stdout",
     "output_type": "stream",
     "text": [
      "[20 29 38 47]\n",
      "[0 1 4 9]\n",
      "[ True  True False False]\n"
     ]
    }
   ],
   "source": [
    "a = np.array([20,30,40,50])\n",
    "b = np.arange(4)\n",
    "\n",
    "c = a - b\n",
    "print(c)\n",
    "\n",
    "print(b**2)\n",
    "\n",
    "print(a<35)"
   ]
  },
  {
   "cell_type": "code",
   "execution_count": 112,
   "metadata": {},
   "outputs": [
    {
     "name": "stdout",
     "output_type": "stream",
     "text": [
      "[[1 1]\n",
      " [1 0]]\n",
      "[[2 0]\n",
      " [3 4]]\n",
      "[[2 0]\n",
      " [3 0]]\n",
      "[[5 4]\n",
      " [2 0]]\n",
      "[[5 4]\n",
      " [2 0]]\n"
     ]
    }
   ],
   "source": [
    "A = np.array([[1,1],[1,0]])\n",
    "B = np.array([[2,0],[3,4]])\n",
    "\n",
    "print(A)\n",
    "print(B)\n",
    "\n",
    "print(A*B)  #对应元素相乘\n",
    "\n",
    "print(A@B)  #矩阵乘法\n",
    "\n",
    "#另一种矩阵乘法\n",
    "C = A.dot(B)\n",
    "print(C)"
   ]
  },
  {
   "cell_type": "code",
   "execution_count": 119,
   "metadata": {},
   "outputs": [
    {
     "name": "stdout",
     "output_type": "stream",
     "text": [
      "[[3 3 3]\n",
      " [3 3 3]]\n",
      "[[3.92036839 3.05766665 3.93712019]\n",
      " [3.25283395 3.57592964 3.02589874]]\n"
     ]
    }
   ],
   "source": [
    "#某些操作如+=和*=会直接改变矩阵值\n",
    "a = np.ones((2,3),dtype=int)\n",
    "a *= 3\n",
    "print(a)\n",
    "\n",
    "b = np.random.random((2,3))  #生成2*3的数组，值范围都是0-1\n",
    "b += a\n",
    "print(b)\n",
    "\n",
    "# a += b 结果错误，当使用不同类型的数组进行操作时，结果数组的类型对应于更一般或更精确的数组\n",
    "# 这里就不能把float64加到int32上，反之可以"
   ]
  },
  {
   "cell_type": "code",
   "execution_count": 122,
   "metadata": {},
   "outputs": [
    {
     "name": "stdout",
     "output_type": "stream",
     "text": [
      "[0.         1.57079633 3.14159265] float64\n",
      "[1.         2.57079633 4.14159265] float64\n",
      "[ 0.54030231+0.84147098j -0.84147098+0.54030231j -0.54030231-0.84147098j] complex128\n"
     ]
    }
   ],
   "source": [
    "# 不同类型数组操作，类型精度的变化\n",
    "a = np.ones(3, dtype=np.int32)\n",
    "b = np.linspace(0,np.pi,3)\n",
    "print(b, b.dtype)\n",
    "\n",
    "c = a + b\n",
    "print(c, c.dtype)\n",
    "\n",
    "d = np.exp(c*1j)\n",
    "print(d, d.dtype)"
   ]
  },
  {
   "cell_type": "code",
   "execution_count": 123,
   "metadata": {},
   "outputs": [
    {
     "name": "stdout",
     "output_type": "stream",
     "text": [
      "[[0.10148517 0.66256259 0.61388583]\n",
      " [0.53179822 0.68792555 0.50489655]]\n",
      "3.102553915857638\n",
      "0.10148517322145278\n",
      "0.6879255543405525\n"
     ]
    }
   ],
   "source": [
    "#一元操作\n",
    "a = np.random.random((2,3))\n",
    "print(a)\n",
    "\n",
    "print(a.sum())\n",
    "print(a.min())\n",
    "print(a.max())"
   ]
  },
  {
   "cell_type": "code",
   "execution_count": 128,
   "metadata": {},
   "outputs": [
    {
     "name": "stdout",
     "output_type": "stream",
     "text": [
      "[[ 0  1  2  3]\n",
      " [ 4  5  6  7]\n",
      " [ 8  9 10 11]]\n",
      "[12 15 18 21]\n",
      "[0 4 8]\n",
      "[[ 0  1  2  3]\n",
      " [ 4  6  8 10]\n",
      " [12 15 18 21]]\n"
     ]
    }
   ],
   "source": [
    "#一元操作也可以指定某一轴进行操作\n",
    "b = np.arange(12).reshape(3,4)\n",
    "print(b)\n",
    "\n",
    "print(b.sum(axis=0)) #sum of each column\n",
    "print(b.min(axis=1)) #min of each row\n",
    "\n",
    "print(b.cumsum(axis=0)) #cumulative sum along each column"
   ]
  },
  {
   "cell_type": "markdown",
   "metadata": {},
   "source": [
    "### 通函数"
   ]
  },
  {
   "cell_type": "code",
   "execution_count": 132,
   "metadata": {},
   "outputs": [
    {
     "name": "stdout",
     "output_type": "stream",
     "text": [
      "[0 1 2]\n",
      "[1.         2.71828183 7.3890561 ]\n",
      "[0.         1.         1.41421356]\n",
      "[2. 0. 6.]\n"
     ]
    }
   ],
   "source": [
    "#通函数ufunc，在数组上按照元素进行计算，产生一个数组为输出\n",
    "\n",
    "B = np.arange(3)\n",
    "print(B)\n",
    "\n",
    "print(np.exp(B))  #e^x\n",
    "\n",
    "print(np.sqrt(B))\n",
    "\n",
    "C = np.array([2., -1., 4.])\n",
    "print(np.add(B, C))"
   ]
  },
  {
   "cell_type": "markdown",
   "metadata": {},
   "source": [
    "### 索引、切片"
   ]
  },
  {
   "cell_type": "code",
   "execution_count": 142,
   "metadata": {},
   "outputs": [
    {
     "name": "stdout",
     "output_type": "stream",
     "text": [
      "[ 0  1  4  9 16 25 36 49 64 81]\n",
      "4\n",
      "[ 4  9 16]\n",
      "[-1000     1 -1000     9 -1000    25    36    49    64    81]\n",
      "[   81    64    49    36    25 -1000     9 -1000     1 -1000]\n",
      "1000000\n",
      "1\n",
      "1000000\n",
      "81\n",
      "1000000\n",
      "625\n",
      "1296\n",
      "2401\n",
      "4096\n",
      "6561\n"
     ]
    }
   ],
   "source": [
    "a = np.arange(10)**2\n",
    "print(a)\n",
    "\n",
    "print(a[2])\n",
    "\n",
    "#左闭右开\n",
    "print(a[2:5])\n",
    "\n",
    "a[:6:2] = -1000  #a[0:6:2],from 0 to 5,set every 2nd element to -1000\n",
    "print(a)\n",
    "\n",
    "print(a[: : -1]) #reverse a\n",
    "\n",
    "for i in a:\n",
    "    print(i**2)"
   ]
  },
  {
   "cell_type": "code",
   "execution_count": 148,
   "metadata": {},
   "outputs": [
    {
     "name": "stdout",
     "output_type": "stream",
     "text": [
      "[[ 0  1  2  3]\n",
      " [10 11 12 13]\n",
      " [20 21 22 23]\n",
      " [30 31 32 33]\n",
      " [40 41 42 43]]\n",
      "23\n",
      "[ 1 11 21 31 41]\n",
      "[ 1 11 21 31 41]\n",
      "[[10 11 12 13]\n",
      " [20 21 22 23]]\n"
     ]
    }
   ],
   "source": [
    "# 多维数组的索引\n",
    "def f(x,y):\n",
    "    return 10*x+y\n",
    "\n",
    "# x、y分别为行列坐标\n",
    "b = np.fromfunction(f,(5,4),dtype=int)\n",
    "print(b)\n",
    "\n",
    "print(b[2,3])\n",
    "\n",
    "print(b[0:5,1])  #each row in the 2nd column of b\n",
    "\n",
    "print(b[:,1]) #equivalent to the previous example\n",
    "\n",
    "print(b[1:3, : ]) #each column in the 2nd and 3rd row of b"
   ]
  },
  {
   "cell_type": "code",
   "execution_count": 150,
   "metadata": {},
   "outputs": [
    {
     "name": "stdout",
     "output_type": "stream",
     "text": [
      "[40 41 42 43]\n",
      "[40 41 42 43]\n"
     ]
    }
   ],
   "source": [
    "# 当提供的索引少于轴数量时，缺失部分默认为完整的切片\n",
    "print(b[-1])\n",
    "print(b[-1, : ])"
   ]
  },
  {
   "cell_type": "code",
   "execution_count": 153,
   "metadata": {},
   "outputs": [
    {
     "name": "stdout",
     "output_type": "stream",
     "text": [
      "(2, 2, 3)\n",
      "[[100 101 102]\n",
      " [110 112 113]]\n",
      "[[  2  13]\n",
      " [102 113]]\n"
     ]
    }
   ],
   "source": [
    "# b[i]方括号中的表达式i被视为后面紧跟着 : 的多个实例，用于表示剩余轴，也可使用三个点写为 b[i,...]\n",
    "c = np.array([[[  0,  1,  2],               # a 3D array (two stacked 2D arrays)\n",
    "               [ 10, 12, 13]],\n",
    "               [[100,101,102],\n",
    "               [110,112,113]]])\n",
    "print(c.shape)\n",
    "\n",
    "print(c[1,...])  # c[1,:,:]\n",
    "print(c[...,2])  # c[:,:,2]"
   ]
  },
  {
   "cell_type": "code",
   "execution_count": 154,
   "metadata": {},
   "outputs": [
    {
     "name": "stdout",
     "output_type": "stream",
     "text": [
      "[0 1 2 3]\n",
      "[10 11 12 13]\n",
      "[20 21 22 23]\n",
      "[30 31 32 33]\n",
      "[40 41 42 43]\n"
     ]
    }
   ],
   "source": [
    "# 多维数组迭代\n",
    "for row in b:\n",
    "    print(row)"
   ]
  },
  {
   "cell_type": "code",
   "execution_count": 155,
   "metadata": {},
   "outputs": [
    {
     "name": "stdout",
     "output_type": "stream",
     "text": [
      "0\n",
      "1\n",
      "2\n",
      "3\n",
      "10\n",
      "11\n",
      "12\n",
      "13\n",
      "20\n",
      "21\n",
      "22\n",
      "23\n",
      "30\n",
      "31\n",
      "32\n",
      "33\n",
      "40\n",
      "41\n",
      "42\n",
      "43\n"
     ]
    }
   ],
   "source": [
    "# flatten全部展开\n",
    "for ele in b.flat:\n",
    "    print(ele)"
   ]
  },
  {
   "cell_type": "markdown",
   "metadata": {},
   "source": [
    "### 形状操控"
   ]
  },
  {
   "cell_type": "code",
   "execution_count": 157,
   "metadata": {},
   "outputs": [
    {
     "name": "stdout",
     "output_type": "stream",
     "text": [
      "[[9. 0. 6. 1.]\n",
      " [4. 1. 1. 1.]\n",
      " [4. 8. 0. 5.]]\n",
      "(3, 4)\n"
     ]
    }
   ],
   "source": [
    "# 向下取整\n",
    "a = np.floor(10*np.random.random((3,4)))\n",
    "print(a)\n",
    "\n",
    "print(a.shape)"
   ]
  },
  {
   "cell_type": "code",
   "execution_count": 160,
   "metadata": {},
   "outputs": [
    {
     "name": "stdout",
     "output_type": "stream",
     "text": [
      "[9. 0. 6. 1. 4. 1. 1. 1. 4. 8. 0. 5.]\n",
      "[9. 0. 6. 1. 4. 1. 1. 1. 4. 8. 0. 5.]\n"
     ]
    }
   ],
   "source": [
    "# 矩阵展开成向量\n",
    "b = a.ravel()\n",
    "print(b)\n",
    "\n",
    "c = a.flatten()\n",
    "print(c)"
   ]
  },
  {
   "cell_type": "code",
   "execution_count": 164,
   "metadata": {},
   "outputs": [
    {
     "name": "stdout",
     "output_type": "stream",
     "text": [
      "[[9. 4. 4.]\n",
      " [0. 1. 8.]\n",
      " [6. 1. 0.]\n",
      " [1. 1. 5.]]\n",
      "(4, 3)\n",
      "[[9. 0. 6. 1.]\n",
      " [4. 1. 1. 1.]\n",
      " [4. 8. 0. 5.]]\n",
      "(3, 4)\n"
     ]
    }
   ],
   "source": [
    "# 转置矩阵\n",
    "e = a.T\n",
    "print(e)\n",
    "print(e.shape)\n",
    "print(a)\n",
    "print(a.shape)"
   ]
  },
  {
   "cell_type": "code",
   "execution_count": 165,
   "metadata": {},
   "outputs": [
    {
     "name": "stdout",
     "output_type": "stream",
     "text": [
      "[[9. 0.]\n",
      " [6. 1.]\n",
      " [4. 1.]\n",
      " [1. 1.]\n",
      " [4. 8.]\n",
      " [0. 5.]]\n",
      "[[9. 0. 6. 1. 4. 1.]\n",
      " [1. 1. 4. 8. 0. 5.]]\n"
     ]
    }
   ],
   "source": [
    "# reshape函数返回修改形状的参数，而resize修改数组本身\n",
    "d = a.reshape(6,2)\n",
    "print(d)\n",
    "\n",
    "a.resize((2,6))\n",
    "print(a)"
   ]
  },
  {
   "cell_type": "code",
   "execution_count": 166,
   "metadata": {},
   "outputs": [
    {
     "name": "stdout",
     "output_type": "stream",
     "text": [
      "[[9. 0. 6.]\n",
      " [1. 4. 1.]\n",
      " [1. 1. 4.]\n",
      " [8. 0. 5.]]\n"
     ]
    }
   ],
   "source": [
    "# reshape中将size指定为-1， 会自动计算size大小\n",
    "print(a.reshape(-1,3))"
   ]
  },
  {
   "cell_type": "code",
   "execution_count": 3,
   "metadata": {},
   "outputs": [
    {
     "name": "stdout",
     "output_type": "stream",
     "text": [
      "[[ 0  1  2  3  4  5]\n",
      " [ 6  7  8  9 10 11]]\n",
      "[[ 0  1  2  3  4  5]\n",
      " [10 11 12 13 14 15]]\n",
      "[[ 0  1  2  3  4  5]\n",
      " [ 6  7  8  9 10 11]\n",
      " [ 0  1  2  3  4  5]\n",
      " [10 11 12 13 14 15]]\n"
     ]
    }
   ],
   "source": [
    "import numpy as np\n",
    "\n",
    "a = np.arange(12).reshape(2, 6)\n",
    "\n",
    "def f(x,y):\n",
    "    return 10*x+y\n",
    "\n",
    "b = np.fromfunction(f,(2,6),dtype=int)\n",
    "\n",
    "c = np.vstack((a,b))\n",
    "print(a)\n",
    "print(b)\n",
    "print(c)"
   ]
  },
  {
   "cell_type": "code",
   "execution_count": null,
   "metadata": {},
   "outputs": [],
   "source": []
  }
 ],
 "metadata": {
  "interpreter": {
   "hash": "00227f414ce4573577e0327d2d9846d1da462d48095acded7cc62032d885b171"
  },
  "kernelspec": {
   "display_name": "Python 3.9.7 ('base')",
   "language": "python",
   "name": "python3"
  },
  "language_info": {
   "codemirror_mode": {
    "name": "ipython",
    "version": 3
   },
   "file_extension": ".py",
   "mimetype": "text/x-python",
   "name": "python",
   "nbconvert_exporter": "python",
   "pygments_lexer": "ipython3",
   "version": "3.9.7"
  },
  "orig_nbformat": 4
 },
 "nbformat": 4,
 "nbformat_minor": 2
}
